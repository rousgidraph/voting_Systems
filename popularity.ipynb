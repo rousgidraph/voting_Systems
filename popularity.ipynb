{
 "cells": [
  {
   "cell_type": "code",
   "execution_count": 1,
   "id": "0a280cb3",
   "metadata": {},
   "outputs": [],
   "source": [
    "import pandas as pd "
   ]
  },
  {
   "cell_type": "code",
   "execution_count": 2,
   "id": "61ac57d4",
   "metadata": {},
   "outputs": [],
   "source": [
    "import numpy as np"
   ]
  },
  {
   "cell_type": "code",
   "execution_count": null,
   "id": "75797737",
   "metadata": {},
   "outputs": [],
   "source": []
  },
  {
   "cell_type": "code",
   "execution_count": 3,
   "id": "509d8d1f",
   "metadata": {},
   "outputs": [],
   "source": [
    "def prep_data(filename): #only acceepts csv \n",
    "    data = pd.read_csv(filename)\n",
    "    #data.head()\n",
    "    #data.info\n",
    "    #data.describe()\n",
    "    data.fillna(0,inplace=True)\n",
    "    del data['Response ID']\n",
    "    #data = data.drop(data.index[0])\n",
    "    return data"
   ]
  },
  {
   "cell_type": "code",
   "execution_count": 4,
   "id": "7d8604e0",
   "metadata": {},
   "outputs": [],
   "source": [
    "filename = 'data.csv'"
   ]
  },
  {
   "cell_type": "code",
   "execution_count": 5,
   "id": "e5fd7017",
   "metadata": {},
   "outputs": [],
   "source": [
    "#data = prep_data(filename)"
   ]
  },
  {
   "cell_type": "code",
   "execution_count": 6,
   "id": "9be68bf8",
   "metadata": {},
   "outputs": [],
   "source": [
    "#candidates =  data.columns"
   ]
  },
  {
   "cell_type": "code",
   "execution_count": 7,
   "id": "640f5744",
   "metadata": {},
   "outputs": [],
   "source": [
    "#candidates[1]"
   ]
  },
  {
   "cell_type": "code",
   "execution_count": 8,
   "id": "0040a277",
   "metadata": {},
   "outputs": [],
   "source": [
    "#data.head(12)"
   ]
  },
  {
   "cell_type": "code",
   "execution_count": 9,
   "id": "2fb3bda4",
   "metadata": {},
   "outputs": [],
   "source": [
    "#data.tail(12)"
   ]
  },
  {
   "cell_type": "code",
   "execution_count": 10,
   "id": "b9d7815d",
   "metadata": {},
   "outputs": [],
   "source": [
    "#data.size"
   ]
  },
  {
   "cell_type": "code",
   "execution_count": 11,
   "id": "63e521a2",
   "metadata": {},
   "outputs": [],
   "source": [
    "#len(data.index) # the size of the data frame "
   ]
  },
  {
   "cell_type": "code",
   "execution_count": 12,
   "id": "951a63e5",
   "metadata": {},
   "outputs": [],
   "source": [
    "#data.values[0][0]"
   ]
  },
  {
   "cell_type": "code",
   "execution_count": 13,
   "id": "7ef6bc22",
   "metadata": {},
   "outputs": [],
   "source": [
    "#candidates.shape"
   ]
  },
  {
   "cell_type": "code",
   "execution_count": 14,
   "id": "14e72eda",
   "metadata": {},
   "outputs": [],
   "source": [
    "#scores = np.zeros(candidates.size, dtype = int)\n",
    "#print(scores)\n",
    "#print(candidates)"
   ]
  },
  {
   "cell_type": "code",
   "execution_count": 15,
   "id": "374d4534",
   "metadata": {},
   "outputs": [],
   "source": [
    "#for row in range(0,len(data.index)):\n",
    "   # print('new row')\n",
    "#    for cell in range(0,candidates.size):\n",
    "#        #print(cell)\n",
    "#        value = data.values[row][cell]\n",
    "#        if value == 1.0:\n",
    "#            #print('kitu at ',candidates[cell])\n",
    "#            scores[cell] += 1\n",
    "        "
   ]
  },
  {
   "cell_type": "code",
   "execution_count": 16,
   "id": "d8a07bd6",
   "metadata": {},
   "outputs": [],
   "source": [
    "#print(scores)"
   ]
  },
  {
   "cell_type": "code",
   "execution_count": 17,
   "id": "08ed849e",
   "metadata": {},
   "outputs": [],
   "source": [
    "#max_index_col = np.argmax(scores, axis=0)\n",
    "#print(max_index_col)"
   ]
  },
  {
   "cell_type": "code",
   "execution_count": 18,
   "id": "9f921e82",
   "metadata": {},
   "outputs": [],
   "source": [
    "#print(candidates[max_index_col])"
   ]
  },
  {
   "cell_type": "code",
   "execution_count": 19,
   "id": "af63b18b",
   "metadata": {},
   "outputs": [],
   "source": [
    "def get_winner(filename):\n",
    "    data = prep_data(filename)\n",
    "    print(\"Data loaded \")\n",
    "    candidates =  data.columns\n",
    "    #print(candidates[1])\n",
    "    #print(candidates.shape)\n",
    "    scores = np.zeros(candidates.size, dtype = int)\n",
    "    #print(scores)\n",
    "    #print(candidates)\n",
    "    for row in range(0,len(data.index)):\n",
    "       # print('new row')\n",
    "        for cell in range(0,candidates.size):\n",
    "            #print(cell)\n",
    "            value = data.values[row][cell]\n",
    "            if value == 1.0:\n",
    "                #print('kitu at ',candidates[cell])\n",
    "                scores[cell] += 1\n",
    "    #print(\"The scores array\",scores) \n",
    "    max_index_col = np.argmax(scores, axis=0)\n",
    "    #print(\"The column with the highest value\"max_index_col)\n",
    "    print(\"The winner is \",candidates[max_index_col])\n",
    "    return candidates[max_index_col]\n",
    "    "
   ]
  },
  {
   "cell_type": "code",
   "execution_count": 20,
   "id": "40b3300b",
   "metadata": {},
   "outputs": [
    {
     "name": "stdout",
     "output_type": "stream",
     "text": [
      "Data loaded \n",
      "The winner is  Little Oven Pizza\n"
     ]
    },
    {
     "data": {
      "text/plain": [
       "'Little Oven Pizza'"
      ]
     },
     "execution_count": 20,
     "metadata": {},
     "output_type": "execute_result"
    }
   ],
   "source": [
    "get_winner(filename)"
   ]
  },
  {
   "cell_type": "code",
   "execution_count": null,
   "id": "c1b1a5ec",
   "metadata": {},
   "outputs": [],
   "source": []
  },
  {
   "cell_type": "code",
   "execution_count": null,
   "id": "65ea61c3",
   "metadata": {},
   "outputs": [],
   "source": []
  },
  {
   "cell_type": "code",
   "execution_count": null,
   "id": "66f01e56",
   "metadata": {},
   "outputs": [],
   "source": []
  },
  {
   "cell_type": "code",
   "execution_count": null,
   "id": "903b2f51",
   "metadata": {},
   "outputs": [],
   "source": []
  },
  {
   "cell_type": "code",
   "execution_count": null,
   "id": "2d382dc6",
   "metadata": {},
   "outputs": [],
   "source": []
  },
  {
   "cell_type": "code",
   "execution_count": null,
   "id": "964cc0c7",
   "metadata": {},
   "outputs": [],
   "source": []
  },
  {
   "cell_type": "code",
   "execution_count": null,
   "id": "92498e6c",
   "metadata": {},
   "outputs": [],
   "source": []
  },
  {
   "cell_type": "code",
   "execution_count": null,
   "id": "e601a852",
   "metadata": {},
   "outputs": [],
   "source": []
  },
  {
   "cell_type": "code",
   "execution_count": null,
   "id": "cae460c8",
   "metadata": {},
   "outputs": [],
   "source": []
  }
 ],
 "metadata": {
  "kernelspec": {
   "display_name": "Python 3",
   "language": "python",
   "name": "python3"
  },
  "language_info": {
   "codemirror_mode": {
    "name": "ipython",
    "version": 3
   },
   "file_extension": ".py",
   "mimetype": "text/x-python",
   "name": "python",
   "nbconvert_exporter": "python",
   "pygments_lexer": "ipython3",
   "version": "3.8.8"
  }
 },
 "nbformat": 4,
 "nbformat_minor": 5
}
