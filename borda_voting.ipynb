{
 "cells": [
  {
   "cell_type": "code",
   "execution_count": 1,
   "id": "1859d640",
   "metadata": {},
   "outputs": [],
   "source": [
    "import pandas as pd "
   ]
  },
  {
   "cell_type": "code",
   "execution_count": 2,
   "id": "423c1424",
   "metadata": {},
   "outputs": [],
   "source": [
    "import numpy as np "
   ]
  },
  {
   "cell_type": "code",
   "execution_count": null,
   "id": "a5d2679b",
   "metadata": {},
   "outputs": [],
   "source": []
  },
  {
   "cell_type": "code",
   "execution_count": 3,
   "id": "8038122c",
   "metadata": {},
   "outputs": [],
   "source": [
    "filename = 'data.csv'"
   ]
  },
  {
   "cell_type": "code",
   "execution_count": null,
   "id": "f38cd036",
   "metadata": {},
   "outputs": [],
   "source": []
  },
  {
   "cell_type": "code",
   "execution_count": 4,
   "id": "f8394e8f",
   "metadata": {},
   "outputs": [],
   "source": [
    "def prep_data(filename): #only acceepts csv \n",
    "    data = pd.read_csv(filename)\n",
    "    #data.head()\n",
    "    #data.info\n",
    "    #data.describe()\n",
    "    data.fillna(0,inplace=True)\n",
    "    del data['Response ID']\n",
    "    #data = data.drop(data.index[0])\n",
    "    return data"
   ]
  },
  {
   "cell_type": "code",
   "execution_count": null,
   "id": "b5f8d900",
   "metadata": {},
   "outputs": [],
   "source": []
  },
  {
   "cell_type": "code",
   "execution_count": 5,
   "id": "c918e3d7",
   "metadata": {},
   "outputs": [],
   "source": [
    "#data = prep_data(filename)"
   ]
  },
  {
   "cell_type": "code",
   "execution_count": 6,
   "id": "67507fce",
   "metadata": {},
   "outputs": [],
   "source": [
    "#candidates =  data.columns"
   ]
  },
  {
   "cell_type": "code",
   "execution_count": 7,
   "id": "3acfd3d8",
   "metadata": {},
   "outputs": [],
   "source": [
    "#scores = np.zeros(candidates.size, dtype = int)\n",
    "#print(scores)\n",
    "#print(candidates)"
   ]
  },
  {
   "cell_type": "code",
   "execution_count": 8,
   "id": "02cb0be9",
   "metadata": {},
   "outputs": [],
   "source": [
    "def inverse_value(rating):\n",
    "    if rating <= 0:\n",
    "        return 0\n",
    "    \n",
    "    return (6 - rating)"
   ]
  },
  {
   "cell_type": "code",
   "execution_count": 9,
   "id": "6ecfe0e5",
   "metadata": {},
   "outputs": [
    {
     "data": {
      "text/plain": [
       "1"
      ]
     },
     "execution_count": 9,
     "metadata": {},
     "output_type": "execute_result"
    }
   ],
   "source": [
    "inverse_value(5)"
   ]
  },
  {
   "cell_type": "code",
   "execution_count": 10,
   "id": "aacf0b9e",
   "metadata": {},
   "outputs": [],
   "source": [
    "#for row in range(0,len(data.index)):\n",
    "#    for cell in range(0,candidates.size):\n",
    "#        #print(inverse_value(data.values[row][cell]))\n",
    "#        inverse = inverse_value(data.values[row][cell])\n",
    "#        scores[cell] += inverse\n",
    "#        \n",
    "#print(scores)        "
   ]
  },
  {
   "cell_type": "code",
   "execution_count": 11,
   "id": "04553263",
   "metadata": {},
   "outputs": [],
   "source": [
    "#max_index_col = np.argmax(scores, axis=0)\n",
    "#print(max_index_col)"
   ]
  },
  {
   "cell_type": "code",
   "execution_count": 12,
   "id": "7c274450",
   "metadata": {},
   "outputs": [],
   "source": [
    "#print(candidates[max_index_col])"
   ]
  },
  {
   "cell_type": "code",
   "execution_count": null,
   "id": "073c8ca9",
   "metadata": {},
   "outputs": [],
   "source": []
  },
  {
   "cell_type": "code",
   "execution_count": 15,
   "id": "0dc0028c",
   "metadata": {},
   "outputs": [],
   "source": [
    "def get_winner_borda(filename):\n",
    "    data = prep_data(filename)\n",
    "    candidates =  data.columns\n",
    "    scores = np.zeros(candidates.size, dtype = int)\n",
    "    for row in range(0,len(data.index)):\n",
    "        for cell in range(0,candidates.size):\n",
    "            #print(inverse_value(data.values[row][cell]))\n",
    "            inverse = inverse_value(data.values[row][cell])\n",
    "            scores[cell] += inverse\n",
    "    print(scores) \n",
    "    max_index_col = np.argmax(scores, axis=0)\n",
    "    #print(max_index_col)\n",
    "    #print(candidates[max_index_col])\n",
    "    winner = candidates[max_index_col]\n",
    "    votes = scores[max_index_col]\n",
    "    print(\"The winner is \",winner,\" with \",votes,\" borda votes \")\n",
    "    return winner\n",
    "    \n",
    "    "
   ]
  },
  {
   "cell_type": "code",
   "execution_count": 16,
   "id": "5f262681",
   "metadata": {},
   "outputs": [
    {
     "name": "stdout",
     "output_type": "stream",
     "text": [
      "[828 757 615 448 517]\n",
      "The winner is  Little Oven Pizza  with  828  votes of approval\n"
     ]
    },
    {
     "data": {
      "text/plain": [
       "'Little Oven Pizza'"
      ]
     },
     "execution_count": 16,
     "metadata": {},
     "output_type": "execute_result"
    }
   ],
   "source": [
    "get_winner_borda(filename)"
   ]
  }
 ],
 "metadata": {
  "kernelspec": {
   "display_name": "Python 3",
   "language": "python",
   "name": "python3"
  },
  "language_info": {
   "codemirror_mode": {
    "name": "ipython",
    "version": 3
   },
   "file_extension": ".py",
   "mimetype": "text/x-python",
   "name": "python",
   "nbconvert_exporter": "python",
   "pygments_lexer": "ipython3",
   "version": "3.8.8"
  }
 },
 "nbformat": 4,
 "nbformat_minor": 5
}
