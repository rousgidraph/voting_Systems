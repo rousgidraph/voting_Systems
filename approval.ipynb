{
 "cells": [
  {
   "cell_type": "code",
   "execution_count": 1,
   "id": "7703b29b",
   "metadata": {},
   "outputs": [],
   "source": [
    "import numpy as np\n"
   ]
  },
  {
   "cell_type": "code",
   "execution_count": 2,
   "id": "8d005fa3",
   "metadata": {},
   "outputs": [],
   "source": [
    "import pandas as pd "
   ]
  },
  {
   "cell_type": "code",
   "execution_count": null,
   "id": "b1d7cd9c",
   "metadata": {},
   "outputs": [],
   "source": []
  },
  {
   "cell_type": "code",
   "execution_count": 3,
   "id": "1dacea93",
   "metadata": {},
   "outputs": [],
   "source": [
    "filename = 'data.csv'"
   ]
  },
  {
   "cell_type": "code",
   "execution_count": null,
   "id": "db7e5698",
   "metadata": {},
   "outputs": [],
   "source": []
  },
  {
   "cell_type": "code",
   "execution_count": 4,
   "id": "deb32326",
   "metadata": {},
   "outputs": [],
   "source": [
    "def prep_data(filename): #only acceepts csv \n",
    "    data = pd.read_csv(filename)\n",
    "    #data.head()\n",
    "    #data.info\n",
    "    #data.describe()\n",
    "    data.fillna(0,inplace=True)\n",
    "    del data['Response ID']\n",
    "    #data = data.drop(data.index[0])\n",
    "    return data"
   ]
  },
  {
   "cell_type": "code",
   "execution_count": null,
   "id": "bbf8100e",
   "metadata": {},
   "outputs": [],
   "source": []
  },
  {
   "cell_type": "code",
   "execution_count": 5,
   "id": "e1f5beca",
   "metadata": {},
   "outputs": [],
   "source": [
    "#data = prep_data(filename)"
   ]
  },
  {
   "cell_type": "code",
   "execution_count": 6,
   "id": "3366fe63",
   "metadata": {},
   "outputs": [],
   "source": [
    "#data.head(6)"
   ]
  },
  {
   "cell_type": "code",
   "execution_count": null,
   "id": "0a55f60a",
   "metadata": {},
   "outputs": [],
   "source": []
  },
  {
   "cell_type": "code",
   "execution_count": 7,
   "id": "91381f14",
   "metadata": {},
   "outputs": [],
   "source": [
    "def get_average(numbers ):\n",
    "    summation = 0\n",
    "    count = 0\n",
    "    for num in numbers: \n",
    "        #print(num)\n",
    "        if num > 0:\n",
    "            count += 1\n",
    "            summation += num\n",
    "    if summation == 0: return   0  \n",
    "    \n",
    "    average = summation / count\n",
    "    #print(\"The average \", average,\" count \",count)\n",
    "    return average"
   ]
  },
  {
   "cell_type": "code",
   "execution_count": null,
   "id": "c936b02d",
   "metadata": {},
   "outputs": [],
   "source": []
  },
  {
   "cell_type": "code",
   "execution_count": 8,
   "id": "a74f742c",
   "metadata": {},
   "outputs": [],
   "source": [
    "#candidates = data.columns"
   ]
  },
  {
   "cell_type": "code",
   "execution_count": 9,
   "id": "62c62cb8",
   "metadata": {},
   "outputs": [],
   "source": [
    "#scores = np.zeros(candidates.size)"
   ]
  },
  {
   "cell_type": "code",
   "execution_count": 10,
   "id": "bf525594",
   "metadata": {},
   "outputs": [],
   "source": [
    "#print(get_average(data.values[3]))"
   ]
  },
  {
   "cell_type": "code",
   "execution_count": null,
   "id": "690a217a",
   "metadata": {},
   "outputs": [],
   "source": []
  },
  {
   "cell_type": "code",
   "execution_count": 11,
   "id": "87986ff7",
   "metadata": {},
   "outputs": [],
   "source": [
    "#scores.size"
   ]
  },
  {
   "cell_type": "code",
   "execution_count": 12,
   "id": "36f8dfc7",
   "metadata": {},
   "outputs": [],
   "source": [
    "#candidates[4]"
   ]
  },
  {
   "cell_type": "code",
   "execution_count": 13,
   "id": "25b17b30",
   "metadata": {},
   "outputs": [],
   "source": [
    "#for row in range(0, len(data.index)): \n",
    "#    #print(data.values[row]) \n",
    "#    avrg = get_average(data.values[row])\n",
    "#    #print(avrg)\n",
    "#    for cell in range(0, scores.size):\n",
    "#        value = data.values[row][cell]\n",
    "#        if value < avrg:\n",
    "#            scores[cell] += 1"
   ]
  },
  {
   "cell_type": "code",
   "execution_count": 14,
   "id": "0c006738",
   "metadata": {},
   "outputs": [],
   "source": [
    "#scores"
   ]
  },
  {
   "cell_type": "code",
   "execution_count": 15,
   "id": "442c1119",
   "metadata": {},
   "outputs": [],
   "source": [
    "#max_index_col = np.argmax(scores, axis=0)\n",
    "#print(max_index_col)"
   ]
  },
  {
   "cell_type": "code",
   "execution_count": 16,
   "id": "2c920e5d",
   "metadata": {},
   "outputs": [],
   "source": [
    "#print(candidates[max_index_col])"
   ]
  },
  {
   "cell_type": "code",
   "execution_count": 22,
   "id": "0cb9d324",
   "metadata": {},
   "outputs": [],
   "source": [
    "def get_winner_approval(filename):\n",
    "    data = prep_data(filename)\n",
    "    data.head(6)\n",
    "    candidates = data.columns\n",
    "    scores = np.zeros(candidates.size)\n",
    "    #print(get_average(data.values[3]))\n",
    "    for row in range(0, len(data.index)): \n",
    "        #print(data.values[row]) \n",
    "        avrg = get_average(data.values[row])\n",
    "        #print(avrg)\n",
    "        for cell in range(0, scores.size):\n",
    "            value = data.values[row][cell]\n",
    "            if value < avrg:\n",
    "                scores[cell] += 1\n",
    "    max_index_col = np.argmax(scores, axis=0)\n",
    "    #print(max_index_col)\n",
    "    winner = candidates[max_index_col]\n",
    "    votes = scores[max_index_col]\n",
    "    print(\"The winner is \",winner,\" with \",votes,\" votes of approval\")\n",
    "    return winner\n",
    "    \n",
    "    "
   ]
  },
  {
   "cell_type": "code",
   "execution_count": 23,
   "id": "aa5d2421",
   "metadata": {},
   "outputs": [
    {
     "name": "stdout",
     "output_type": "stream",
     "text": [
      "The winner is  Little Oven Pizza  with  153.0  votes of approval\n"
     ]
    },
    {
     "data": {
      "text/plain": [
       "'Little Oven Pizza'"
      ]
     },
     "execution_count": 23,
     "metadata": {},
     "output_type": "execute_result"
    }
   ],
   "source": [
    "get_winner_approval(filename)"
   ]
  }
 ],
 "metadata": {
  "kernelspec": {
   "display_name": "Python 3",
   "language": "python",
   "name": "python3"
  },
  "language_info": {
   "codemirror_mode": {
    "name": "ipython",
    "version": 3
   },
   "file_extension": ".py",
   "mimetype": "text/x-python",
   "name": "python",
   "nbconvert_exporter": "python",
   "pygments_lexer": "ipython3",
   "version": "3.8.8"
  }
 },
 "nbformat": 4,
 "nbformat_minor": 5
}
